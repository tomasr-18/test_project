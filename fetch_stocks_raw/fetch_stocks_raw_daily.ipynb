{
 "cells": [
  {
   "cell_type": "code",
   "execution_count": 25,
   "metadata": {},
   "outputs": [],
   "source": [
    "import os\n",
    "import sys\n",
    "import time\n",
    "import json\n",
    "from datetime import datetime\n",
    "import requests\n",
    "from fastapi.responses import JSONResponse\n",
    "from google.cloud import bigquery\n",
    "from google.oauth2 import service_account\n",
    "from dotenv import load_dotenv\n",
    "\n",
    "\n",
    "load_dotenv(dotenv_path='/home/psor/testgit/test_project/get_stocks/.env')\n",
    "\n",
    "STOCK_API_KEY = os.getenv('STOCK_API_KEY')\n",
    "PROJECT_ID = os.environ.get('PROJECT_ID')  \n",
    "# No need to explicitly provide credentials when running on Cloud Run. The BigQuery client will automatically use the service account associated with the Cloud Run service.\n",
    "credentials = service_account.Credentials.from_service_account_file(\n",
    "        \"/mnt/c/Users/m_was/Downloads/tomastestproject-433206-48a55703dec2.json\")\n",
    "client = bigquery.Client(credentials=credentials, project=credentials.project_id)\n",
    "\n",
    "table_id = f\"{PROJECT_ID}.testdb_1.raw_stock_data\"\n",
    "\n",
    "def fetch_and_upload_raw_stock_data_daily(stock_symbol: str, API_KEY: str):\n",
    "    try:\n",
    "        # Construct the API URL\n",
    "        url = f\"https://www.alphavantage.co/query?function=TIME_SERIES_DAILY&symbol={stock_symbol}&apikey={STOCK_API_KEY}\"\n",
    "        response = requests.get(url=url)   \n",
    "        response.raise_for_status()\n",
    "        data = response.json()\n",
    "\n",
    "        # Extract the latest day's data\n",
    "        latest_date = sorted(data['Time Series (Daily)'].keys())[-1]\n",
    "        latest_data = data['Time Series (Daily)'][latest_date]\n",
    "\n",
    "        fetch_date = datetime.now().strftime('%Y-%m-%d %H:%M:%S')\n",
    "        \n",
    "        # Prepare data for insertion\n",
    "        rows_to_insert = [\n",
    "            {\n",
    "                \"stock_symbol\": stock_symbol,\n",
    "                \"raw_data\": json.dumps(latest_data), # Store only latest data\n",
    "                \"fetch_date\": fetch_date  \n",
    "            }\n",
    "        ]\n",
    "        \n",
    "        # Use upsert to avoid duplicates based on (stock_symbol, trade_date)\n",
    "        job_config = bigquery.LoadJobConfig(\n",
    "        write_disposition=\"WRITE_APPEND\", # or WRITE_APPEND if you want to keep historical data\n",
    "       )\n",
    "\n",
    "        load_job = client.load_table_from_json(rows_to_insert, table_id, job_config=job_config) #job_config=job_config)\n",
    "        load_job.result()  # Wait for the job to complete.\n",
    "\n",
    "        if load_job.errors:\n",
    "            print(f\"Encountered errors while inserting rows: {load_job.errors}\")\n",
    "        else:\n",
    "            print(\"Rows successfully inserted.\")\n",
    "        \n",
    "    except Exception as e:\n",
    "            print(f\"An error occurred: {e}\")\n",
    "\n",
    "\n",
    "#if __name__ == \"__main__\":"
   ]
  },
  {
   "cell_type": "code",
   "execution_count": 26,
   "metadata": {},
   "outputs": [
    {
     "name": "stdout",
     "output_type": "stream",
     "text": [
      "Rows successfully inserted.\n"
     ]
    }
   ],
   "source": [
    "fetch_and_upload_raw_stock_data_daily('TSLA', STOCK_API_KEY)"
   ]
  }
 ],
 "metadata": {
  "kernelspec": {
   "display_name": "Python 3",
   "language": "python",
   "name": "python3"
  },
  "language_info": {
   "codemirror_mode": {
    "name": "ipython",
    "version": 3
   },
   "file_extension": ".py",
   "mimetype": "text/x-python",
   "name": "python",
   "nbconvert_exporter": "python",
   "pygments_lexer": "ipython3",
   "version": "3.10.12"
  }
 },
 "nbformat": 4,
 "nbformat_minor": 2
}
