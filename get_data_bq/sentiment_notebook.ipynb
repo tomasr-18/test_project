{
 "cells": [
  {
   "cell_type": "code",
   "execution_count": 69,
   "metadata": {},
   "outputs": [],
   "source": [
    "\n",
    "\n",
    "from google.cloud import bigquery\n",
    "from google.cloud import secretmanager\n",
    "\n",
    "import os\n",
    "import pandas as pd\n",
    "import db_dtypes\n",
    "from dotenv import load_dotenv\n",
    "\n",
    "\n",
    "def fetch_data_by_date(pub_date=None, table='table_1', project_id='tomastestproject-433206', dataset='testdb_1'):\n",
    "    # load_dotenv()\n",
    "    # Ange sökvägen till din service account JSON-fil\n",
    "    os.environ['GOOGLE_APPLICATION_CREDENTIALS'] = 'tomastestproject-433206-adc5bc090976.json'\n",
    "\n",
    "    table_id = f\"{project_id}.{dataset}.{table}\"\n",
    "    # Skapa en BigQuery-klient\n",
    "    client = bigquery.Client()\n",
    "\n",
    "    query = f\"\"\"\n",
    "        SELECT company,title,description,publishedAt\n",
    "        FROM `{table_id}`\n",
    "        WHERE LEFT(publishedAt, 10) = '{pub_date}';\n",
    "\n",
    "        \"\"\"\n",
    "\n",
    "    query_job = client.query(query)\n",
    "\n",
    "    # Hämta resultaten\n",
    "    results = query_job.result()\n",
    "\n",
    "    return results.to_dataframe()"
   ]
  },
  {
   "cell_type": "code",
   "execution_count": 40,
   "metadata": {},
   "outputs": [
    {
     "name": "stderr",
     "output_type": "stream",
     "text": [
      "[nltk_data] Downloading package vader_lexicon to\n",
      "[nltk_data]     /Users/tomasrydenstam/nltk_data...\n",
      "[nltk_data]   Package vader_lexicon is already up-to-date!\n"
     ]
    }
   ],
   "source": [
    "# from get_data import fetch_data_by_date\n",
    "import pandas as pd\n",
    "from nltk.sentiment import SentimentIntensityAnalyzer\n",
    "import nltk\n",
    "from datetime import datetime, timedelta\n",
    "\n",
    "nltk.download([\n",
    "    \"vader_lexicon\"\n",
    "])\n",
    "\n",
    "\n",
    "def make_score(string):\n",
    "    sia = SentimentIntensityAnalyzer()\n",
    "    if string is None:\n",
    "        return None\n",
    "    else:\n",
    "        return sia.polarity_scores(string)['compound']"
   ]
  },
  {
   "cell_type": "code",
   "execution_count": 7,
   "metadata": {},
   "outputs": [
    {
     "name": "stderr",
     "output_type": "stream",
     "text": [
      "/Users/tomasrydenstam/Desktop/Skola/test_project/testv/lib/python3.12/site-packages/google/cloud/bigquery/table.py:1727: UserWarning: BigQuery Storage module not found, fetch data with the REST endpoint instead.\n",
      "  warnings.warn(\n"
     ]
    }
   ],
   "source": [
    "\n",
    "\n",
    "from google.cloud import bigquery\n",
    "from google.cloud import secretmanager\n",
    "\n",
    "import os\n",
    "import pandas as pd\n",
    "import db_dtypes\n",
    "from dotenv import load_dotenv\n",
    "\n",
    "\n",
    "def fetch_data_by_date(pub_date=None, table='table_1', project_id='tomastestproject-433206', dataset='testdb_1'):\n",
    "    # load_dotenv()\n",
    "    # Ange sökvägen till din service account JSON-fil\n",
    "    os.environ['GOOGLE_APPLICATION_CREDENTIALS'] = 'tomastestproject-433206-adc5bc090976.json'\n",
    "\n",
    "    table_id = f\"{project_id}.{dataset}.{table}\"\n",
    "    # Skapa en BigQuery-klient\n",
    "    client = bigquery.Client()\n",
    "\n",
    "    query = f\"\"\"\n",
    "        SELECT company,title,description,publishedAt\n",
    "        FROM `{table_id}`\n",
    "        WHERE LEFT(publishedAt, 10) = '{pub_date}';\n",
    "\n",
    "        \"\"\"\n",
    "\n",
    "    query_job = client.query(query)\n",
    "\n",
    "    # Hämta resultaten\n",
    "    results = query_job.result()\n",
    "\n",
    "    return results.to_dataframe()\n",
    "\n",
    "\n",
    "# Exempel på användning av funktionen\n",
    "if __name__ == \"__main__\":\n",
    "    fetch_data_by_date(\"2024-08-20\")\n",
    "    # secret = access_secret_version(\n",
    "    #     name='projects/839243415895/secrets/test-github-oauthtoken-e3deeb')\n",
    "    # print(f\"Fetched secret: {secret}\")"
   ]
  },
  {
   "cell_type": "code",
   "execution_count": 70,
   "metadata": {},
   "outputs": [
    {
     "name": "stderr",
     "output_type": "stream",
     "text": [
      "/Users/tomasrydenstam/Desktop/Skola/test_project/testv/lib/python3.12/site-packages/google/cloud/bigquery/table.py:1727: UserWarning: BigQuery Storage module not found, fetch data with the REST endpoint instead.\n",
      "  warnings.warn(\n"
     ]
    }
   ],
   "source": [
    "date = '2024-08-20'\n",
    "data = fetch_data_by_date('2024-08-20')"
   ]
  },
  {
   "cell_type": "code",
   "execution_count": 105,
   "metadata": {},
   "outputs": [],
   "source": [
    "df_copy = data.copy()"
   ]
  },
  {
   "cell_type": "code",
   "execution_count": 106,
   "metadata": {},
   "outputs": [
    {
     "data": {
      "text/html": [
       "<div>\n",
       "<style scoped>\n",
       "    .dataframe tbody tr th:only-of-type {\n",
       "        vertical-align: middle;\n",
       "    }\n",
       "\n",
       "    .dataframe tbody tr th {\n",
       "        vertical-align: top;\n",
       "    }\n",
       "\n",
       "    .dataframe thead th {\n",
       "        text-align: right;\n",
       "    }\n",
       "</style>\n",
       "<table border=\"1\" class=\"dataframe\">\n",
       "  <thead>\n",
       "    <tr style=\"text-align: right;\">\n",
       "      <th></th>\n",
       "      <th>company</th>\n",
       "      <th>title</th>\n",
       "      <th>description</th>\n",
       "      <th>publishedAt</th>\n",
       "    </tr>\n",
       "  </thead>\n",
       "  <tbody>\n",
       "    <tr>\n",
       "      <th>0</th>\n",
       "      <td>JPM</td>\n",
       "      <td>Podcast: JPM connects to French payments netwo...</td>\n",
       "      <td>J.P. Morgan is joining French payments network...</td>\n",
       "      <td>2024-08-20T22:41:34Z</td>\n",
       "    </tr>\n",
       "    <tr>\n",
       "      <th>1</th>\n",
       "      <td>APPL</td>\n",
       "      <td>Best Lightweight Laptop for 2024</td>\n",
       "      <td>Looking for an ultralight ultraportable? These...</td>\n",
       "      <td>2024-08-20T16:55:00Z</td>\n",
       "    </tr>\n",
       "    <tr>\n",
       "      <th>2</th>\n",
       "      <td>APPL</td>\n",
       "      <td>Best Lightweight Laptop for 2024</td>\n",
       "      <td>Looking for an ultralight ultraportable? These...</td>\n",
       "      <td>2024-08-20T16:55:00Z</td>\n",
       "    </tr>\n",
       "    <tr>\n",
       "      <th>3</th>\n",
       "      <td>APPL</td>\n",
       "      <td>Control Center has been supercharged in iOS 18...</td>\n",
       "      <td>In iOS 18, Apple has updated Control Center wi...</td>\n",
       "      <td>2024-08-20T10:12:27Z</td>\n",
       "    </tr>\n",
       "    <tr>\n",
       "      <th>4</th>\n",
       "      <td>APPL</td>\n",
       "      <td>Control Center has been supercharged in iOS 18...</td>\n",
       "      <td>In iOS 18, Apple has updated Control Center wi...</td>\n",
       "      <td>2024-08-20T10:12:27Z</td>\n",
       "    </tr>\n",
       "    <tr>\n",
       "      <th>...</th>\n",
       "      <td>...</td>\n",
       "      <td>...</td>\n",
       "      <td>...</td>\n",
       "      <td>...</td>\n",
       "    </tr>\n",
       "    <tr>\n",
       "      <th>100</th>\n",
       "      <td>NVDA</td>\n",
       "      <td>Jim Cramer on NVIDIA (NVDA): ‘People Feel Ther...</td>\n",
       "      <td>None</td>\n",
       "      <td>2024-08-20T13:16:49Z</td>\n",
       "    </tr>\n",
       "    <tr>\n",
       "      <th>101</th>\n",
       "      <td>APPL</td>\n",
       "      <td>Apple Announces New NFC In-App Transaction Cap...</td>\n",
       "      <td>Apple says developers have new NFC in-app tran...</td>\n",
       "      <td>2024-08-20T15:43:21Z</td>\n",
       "    </tr>\n",
       "    <tr>\n",
       "      <th>102</th>\n",
       "      <td>APPL</td>\n",
       "      <td>Apple Announces New NFC In-App Transaction Cap...</td>\n",
       "      <td>Apple says developers have new NFC in-app tran...</td>\n",
       "      <td>2024-08-20T15:43:21Z</td>\n",
       "    </tr>\n",
       "    <tr>\n",
       "      <th>103</th>\n",
       "      <td>APPL</td>\n",
       "      <td>iPhone 16 launch date leaked!</td>\n",
       "      <td>According to the latest rumors, here is when w...</td>\n",
       "      <td>2024-08-20T10:17:30Z</td>\n",
       "    </tr>\n",
       "    <tr>\n",
       "      <th>104</th>\n",
       "      <td>APPL</td>\n",
       "      <td>iPhone 16 launch date leaked!</td>\n",
       "      <td>According to the latest rumors, here is when w...</td>\n",
       "      <td>2024-08-20T10:17:30Z</td>\n",
       "    </tr>\n",
       "  </tbody>\n",
       "</table>\n",
       "<p>105 rows × 4 columns</p>\n",
       "</div>"
      ],
      "text/plain": [
       "    company                                              title  \\\n",
       "0       JPM  Podcast: JPM connects to French payments netwo...   \n",
       "1      APPL                   Best Lightweight Laptop for 2024   \n",
       "2      APPL                   Best Lightweight Laptop for 2024   \n",
       "3      APPL  Control Center has been supercharged in iOS 18...   \n",
       "4      APPL  Control Center has been supercharged in iOS 18...   \n",
       "..      ...                                                ...   \n",
       "100    NVDA  Jim Cramer on NVIDIA (NVDA): ‘People Feel Ther...   \n",
       "101    APPL  Apple Announces New NFC In-App Transaction Cap...   \n",
       "102    APPL  Apple Announces New NFC In-App Transaction Cap...   \n",
       "103    APPL                      iPhone 16 launch date leaked!   \n",
       "104    APPL                      iPhone 16 launch date leaked!   \n",
       "\n",
       "                                           description           publishedAt  \n",
       "0    J.P. Morgan is joining French payments network...  2024-08-20T22:41:34Z  \n",
       "1    Looking for an ultralight ultraportable? These...  2024-08-20T16:55:00Z  \n",
       "2    Looking for an ultralight ultraportable? These...  2024-08-20T16:55:00Z  \n",
       "3    In iOS 18, Apple has updated Control Center wi...  2024-08-20T10:12:27Z  \n",
       "4    In iOS 18, Apple has updated Control Center wi...  2024-08-20T10:12:27Z  \n",
       "..                                                 ...                   ...  \n",
       "100                                               None  2024-08-20T13:16:49Z  \n",
       "101  Apple says developers have new NFC in-app tran...  2024-08-20T15:43:21Z  \n",
       "102  Apple says developers have new NFC in-app tran...  2024-08-20T15:43:21Z  \n",
       "103  According to the latest rumors, here is when w...  2024-08-20T10:17:30Z  \n",
       "104  According to the latest rumors, here is when w...  2024-08-20T10:17:30Z  \n",
       "\n",
       "[105 rows x 4 columns]"
      ]
     },
     "execution_count": 106,
     "metadata": {},
     "output_type": "execute_result"
    }
   ],
   "source": [
    "df_copy"
   ]
  },
  {
   "cell_type": "code",
   "execution_count": 174,
   "metadata": {},
   "outputs": [],
   "source": [
    "df_copy['score_description'] = df_copy['description'].apply(make_score)\n",
    "df_copy['score_title'] = df_copy['title'].apply(make_score)\n",
    "means = df_copy.groupby(\n",
    "    'company',)[['score_title', 'score_description']].mean()\n",
    "means.reset_index(inplace=True)\n",
    "means['pub_date'] = datetime.now().strftime(date)\n",
    "means['fetch_date'] = datetime.now().strftime('%Y-%m-%d %H:%M:%S')"
   ]
  },
  {
   "cell_type": "code",
   "execution_count": 180,
   "metadata": {},
   "outputs": [],
   "source": [
    "\n",
    "def write(data,  table='news_sentiment', project_id='tomastestproject-433206', dataset='testdb_1') -> None:\n",
    "\n",
    "    # Initiera BigQuery-klienten\n",
    "    client = bigquery.Client.from_service_account_json(\n",
    "        '/Users/tomasrydenstam/Downloads/tomastestproject-433206-adc5bc090976.json')\n",
    "\n",
    "    # Definiera din dataset och tabell\n",
    "    table_id = f\"{project_id}.{dataset}.{table}\"\n",
    "    # print(table_id)\n",
    "    list_of_dicts = data.to_dict(orient='records')\n",
    "    # print(rows_to_insert)\n",
    "    client.get_table(table_id)\n",
    "    errors = client.insert_rows_json(table_id, list_of_dicts)\n",
    "    print(errors)"
   ]
  },
  {
   "cell_type": "code",
   "execution_count": 175,
   "metadata": {},
   "outputs": [
    {
     "data": {
      "text/html": [
       "<div>\n",
       "<style scoped>\n",
       "    .dataframe tbody tr th:only-of-type {\n",
       "        vertical-align: middle;\n",
       "    }\n",
       "\n",
       "    .dataframe tbody tr th {\n",
       "        vertical-align: top;\n",
       "    }\n",
       "\n",
       "    .dataframe thead th {\n",
       "        text-align: right;\n",
       "    }\n",
       "</style>\n",
       "<table border=\"1\" class=\"dataframe\">\n",
       "  <thead>\n",
       "    <tr style=\"text-align: right;\">\n",
       "      <th></th>\n",
       "      <th>company</th>\n",
       "      <th>score_title</th>\n",
       "      <th>score_description</th>\n",
       "      <th>pub_date</th>\n",
       "      <th>fetch_date</th>\n",
       "    </tr>\n",
       "  </thead>\n",
       "  <tbody>\n",
       "    <tr>\n",
       "      <th>0</th>\n",
       "      <td>APPL</td>\n",
       "      <td>0.044651</td>\n",
       "      <td>0.181734</td>\n",
       "      <td>2024-08-20</td>\n",
       "      <td>2024-08-26 14:04:13</td>\n",
       "    </tr>\n",
       "    <tr>\n",
       "      <th>1</th>\n",
       "      <td>JPM</td>\n",
       "      <td>-0.073580</td>\n",
       "      <td>0.052360</td>\n",
       "      <td>2024-08-20</td>\n",
       "      <td>2024-08-26 14:04:13</td>\n",
       "    </tr>\n",
       "    <tr>\n",
       "      <th>2</th>\n",
       "      <td>NVDA</td>\n",
       "      <td>0.002783</td>\n",
       "      <td>0.175400</td>\n",
       "      <td>2024-08-20</td>\n",
       "      <td>2024-08-26 14:04:13</td>\n",
       "    </tr>\n",
       "  </tbody>\n",
       "</table>\n",
       "</div>"
      ],
      "text/plain": [
       "  company  score_title  score_description    pub_date           fetch_date\n",
       "0    APPL     0.044651           0.181734  2024-08-20  2024-08-26 14:04:13\n",
       "1     JPM    -0.073580           0.052360  2024-08-20  2024-08-26 14:04:13\n",
       "2    NVDA     0.002783           0.175400  2024-08-20  2024-08-26 14:04:13"
      ]
     },
     "execution_count": 175,
     "metadata": {},
     "output_type": "execute_result"
    }
   ],
   "source": [
    "means"
   ]
  },
  {
   "cell_type": "code",
   "execution_count": 158,
   "metadata": {},
   "outputs": [
    {
     "data": {
      "text/plain": [
       "[{'company': 'APPL',\n",
       "  'score_title': 0.04465106382978724,\n",
       "  'score_description': 0.18173404255319148,\n",
       "  'pub_date': Timestamp('2024-08-20 00:00:00'),\n",
       "  'fetch_date': Timestamp('2024-08-26 13:28:16.020288')},\n",
       " {'company': 'JPM',\n",
       "  'score_title': -0.07358,\n",
       "  'score_description': 0.052360000000000004,\n",
       "  'pub_date': Timestamp('2024-08-20 00:00:00'),\n",
       "  'fetch_date': Timestamp('2024-08-26 13:28:16.020288')},\n",
       " {'company': 'NVDA',\n",
       "  'score_title': 0.002783333333333341,\n",
       "  'score_description': 0.1754,\n",
       "  'pub_date': Timestamp('2024-08-20 00:00:00'),\n",
       "  'fetch_date': Timestamp('2024-08-26 13:28:16.020288')}]"
      ]
     },
     "execution_count": 158,
     "metadata": {},
     "output_type": "execute_result"
    }
   ],
   "source": [
    "list_of_dicts"
   ]
  },
  {
   "cell_type": "code",
   "execution_count": 147,
   "metadata": {},
   "outputs": [
    {
     "data": {
      "text/html": [
       "<div>\n",
       "<style scoped>\n",
       "    .dataframe tbody tr th:only-of-type {\n",
       "        vertical-align: middle;\n",
       "    }\n",
       "\n",
       "    .dataframe tbody tr th {\n",
       "        vertical-align: top;\n",
       "    }\n",
       "\n",
       "    .dataframe thead th {\n",
       "        text-align: right;\n",
       "    }\n",
       "</style>\n",
       "<table border=\"1\" class=\"dataframe\">\n",
       "  <thead>\n",
       "    <tr style=\"text-align: right;\">\n",
       "      <th></th>\n",
       "      <th>company</th>\n",
       "      <th>score_title</th>\n",
       "      <th>score_description</th>\n",
       "      <th>pub_date</th>\n",
       "      <th>fetch_date</th>\n",
       "    </tr>\n",
       "  </thead>\n",
       "  <tbody>\n",
       "    <tr>\n",
       "      <th>0</th>\n",
       "      <td>APPL</td>\n",
       "      <td>0.044651</td>\n",
       "      <td>0.181734</td>\n",
       "      <td>2024-08-20</td>\n",
       "      <td>2024-08-26 13:28:16.020288</td>\n",
       "    </tr>\n",
       "    <tr>\n",
       "      <th>1</th>\n",
       "      <td>JPM</td>\n",
       "      <td>-0.073580</td>\n",
       "      <td>0.052360</td>\n",
       "      <td>2024-08-20</td>\n",
       "      <td>2024-08-26 13:28:16.020288</td>\n",
       "    </tr>\n",
       "    <tr>\n",
       "      <th>2</th>\n",
       "      <td>NVDA</td>\n",
       "      <td>0.002783</td>\n",
       "      <td>0.175400</td>\n",
       "      <td>2024-08-20</td>\n",
       "      <td>2024-08-26 13:28:16.020288</td>\n",
       "    </tr>\n",
       "  </tbody>\n",
       "</table>\n",
       "</div>"
      ],
      "text/plain": [
       "  company  score_title  score_description   pub_date  \\\n",
       "0    APPL     0.044651           0.181734 2024-08-20   \n",
       "1     JPM    -0.073580           0.052360 2024-08-20   \n",
       "2    NVDA     0.002783           0.175400 2024-08-20   \n",
       "\n",
       "                  fetch_date  \n",
       "0 2024-08-26 13:28:16.020288  \n",
       "1 2024-08-26 13:28:16.020288  \n",
       "2 2024-08-26 13:28:16.020288  "
      ]
     },
     "execution_count": 147,
     "metadata": {},
     "output_type": "execute_result"
    }
   ],
   "source": [
    "means"
   ]
  },
  {
   "cell_type": "code",
   "execution_count": 154,
   "metadata": {},
   "outputs": [],
   "source": [
    "ls = means.drop(columns=['pub_date', 'fetch_date'])"
   ]
  },
  {
   "cell_type": "code",
   "execution_count": 170,
   "metadata": {},
   "outputs": [
    {
     "data": {
      "text/html": [
       "<div>\n",
       "<style scoped>\n",
       "    .dataframe tbody tr th:only-of-type {\n",
       "        vertical-align: middle;\n",
       "    }\n",
       "\n",
       "    .dataframe tbody tr th {\n",
       "        vertical-align: top;\n",
       "    }\n",
       "\n",
       "    .dataframe thead th {\n",
       "        text-align: right;\n",
       "    }\n",
       "</style>\n",
       "<table border=\"1\" class=\"dataframe\">\n",
       "  <thead>\n",
       "    <tr style=\"text-align: right;\">\n",
       "      <th></th>\n",
       "      <th>company</th>\n",
       "      <th>score_title</th>\n",
       "      <th>score_description</th>\n",
       "    </tr>\n",
       "  </thead>\n",
       "  <tbody>\n",
       "    <tr>\n",
       "      <th>0</th>\n",
       "      <td>APPL</td>\n",
       "      <td>0.044651</td>\n",
       "      <td>0.181734</td>\n",
       "    </tr>\n",
       "    <tr>\n",
       "      <th>1</th>\n",
       "      <td>JPM</td>\n",
       "      <td>-0.073580</td>\n",
       "      <td>0.052360</td>\n",
       "    </tr>\n",
       "    <tr>\n",
       "      <th>2</th>\n",
       "      <td>NVDA</td>\n",
       "      <td>0.002783</td>\n",
       "      <td>0.175400</td>\n",
       "    </tr>\n",
       "  </tbody>\n",
       "</table>\n",
       "</div>"
      ],
      "text/plain": [
       "  company  score_title  score_description\n",
       "0    APPL     0.044651           0.181734\n",
       "1     JPM    -0.073580           0.052360\n",
       "2    NVDA     0.002783           0.175400"
      ]
     },
     "execution_count": 170,
     "metadata": {},
     "output_type": "execute_result"
    }
   ],
   "source": [
    "ls"
   ]
  },
  {
   "cell_type": "code",
   "execution_count": 152,
   "metadata": {},
   "outputs": [
    {
     "data": {
      "text/plain": [
       "0    APPL\n",
       "1     JPM\n",
       "2    NVDA\n",
       "Name: company, dtype: object"
      ]
     },
     "execution_count": 152,
     "metadata": {},
     "output_type": "execute_result"
    }
   ],
   "source": [
    "means"
   ]
  },
  {
   "cell_type": "code",
   "execution_count": 182,
   "metadata": {},
   "outputs": [
    {
     "name": "stdout",
     "output_type": "stream",
     "text": [
      "[]\n"
     ]
    }
   ],
   "source": [
    "write(means)"
   ]
  }
 ],
 "metadata": {
  "kernelspec": {
   "display_name": "testv",
   "language": "python",
   "name": "python3"
  },
  "language_info": {
   "codemirror_mode": {
    "name": "ipython",
    "version": 3
   },
   "file_extension": ".py",
   "mimetype": "text/x-python",
   "name": "python",
   "nbconvert_exporter": "python",
   "pygments_lexer": "ipython3",
   "version": "3.12.5"
  }
 },
 "nbformat": 4,
 "nbformat_minor": 2
}
