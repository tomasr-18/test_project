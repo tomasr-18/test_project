{
 "cells": [
  {
   "cell_type": "code",
   "execution_count": null,
   "metadata": {},
   "outputs": [],
   "source": [
    "import requests\n",
    "import json\n",
    "import sys\n",
    "import os\n",
    "import time\n",
    "import requests\n",
    "from google.cloud import bigquery\n",
    "from google.oauth2 import service_account\n",
    "from dotenv import load_dotenv\n",
    "from fastapi.responses import JSONResponse"
   ]
  },
  {
   "cell_type": "code",
   "execution_count": 1,
   "metadata": {},
   "outputs": [
    {
     "ename": "SyntaxError",
     "evalue": "invalid non-printable character U+00A0 (2273558120.py, line 20)",
     "output_type": "error",
     "traceback": [
      "\u001b[0;36m  Cell \u001b[0;32mIn[1], line 20\u001b[0;36m\u001b[0m\n\u001b[0;31m    response = requests.get(url=url)\u001b[0m\n\u001b[0m                                     ^\u001b[0m\n\u001b[0;31mSyntaxError\u001b[0m\u001b[0;31m:\u001b[0m invalid non-printable character U+00A0\n"
     ]
    }
   ],
   "source": [
    "from google.cloud import bigquery\n",
    "import os\n",
    "from dotenv import load_dotenv\n",
    "import requests\n",
    "\n",
    "load_dotenv() \n",
    "load_dotenv()\n",
    "API_KEY = os.getenv('API_KEY')\n",
    "PROJECT_ID = os.environ.get('PROJECT_ID')  \n",
    "\n",
    "# No need to explicitly provide credentials when running on Cloud Run ,The BigQuery client will automatically use the service account associated with the Cloud Run service\n",
    "client = bigquery.Client(project=PROJECT_ID)\n",
    "\n",
    "table_id = f\"{PROJECT_ID}.testdb_1.table_7\"\n",
    "\n",
    "def fetch_and_upload_raw_stock_data(stock_symbol):\n",
    "    try:\n",
    "        # Construct the API URL\n",
    "        url = f\"https://www.alphavantage.co/query?function=TIME_SERIES_DAILY&symbol={stock_symbol}&apikey={API_KEY}\"\n",
    "        response = requests.get(url=url)   \n",
    "\n",
    "        response.raise_for_status()\n",
    "        data = response.json()\n",
    "\n",
    "        if data:\n",
    "            # Prepare data for insertion\n",
    "            rows_to_insert = [\n",
    "                {\n",
    "                    \"stock_symbol\": stock_symbol,\n",
    "                    \"raw_data\": data,  # Directly insert the JSON object\n",
    "                }\n",
    "            ]\n",
    "\n",
    "            errors = client.insert_rows_json(table_id, rows_to_insert)\n",
    "            if not errors:\n",
    "                print(\"Raw data has been added to BigQuery.\")\n",
    "            else:\n",
    "                print(f\"Encountered errors while inserting rows: {errors}\")\n",
    "        else:\n",
    "            print(\"Invalid or empty response from Alpha Vantage API\")\n",
    "\n",
    "    except requests.exceptions.RequestException as e:\n",
    "        print(f\"An error occurred during the API request: {e}\")\n",
    "\n",
    "# Example usage\n",
    "if __name__ == \"__main__\":\n",
    "    stock_symbol = \"AAPL\"  # Replace with your desired stock symbol\n",
    "    fetch_and_upload_raw_stock_data(stock_symbol)"
   ]
  },
  {
   "cell_type": "code",
   "execution_count": null,
   "metadata": {},
   "outputs": [],
   "source": []
  }
 ],
 "metadata": {
  "kernelspec": {
   "display_name": "Python 3",
   "language": "python",
   "name": "python3"
  },
  "language_info": {
   "codemirror_mode": {
    "name": "ipython",
    "version": 3
   },
   "file_extension": ".py",
   "mimetype": "text/x-python",
   "name": "python",
   "nbconvert_exporter": "python",
   "pygments_lexer": "ipython3",
   "version": "3.10.12"
  }
 },
 "nbformat": 4,
 "nbformat_minor": 2
}
