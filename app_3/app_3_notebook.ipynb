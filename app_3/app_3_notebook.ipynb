{
 "cells": [
  {
   "cell_type": "code",
   "execution_count": 8,
   "metadata": {},
   "outputs": [],
   "source": [
    "import requests"
   ]
  },
  {
   "cell_type": "code",
   "execution_count": 9,
   "metadata": {},
   "outputs": [],
   "source": [
    "def get_data(api_key:str,date=None):\n",
    "    #url=f'http://api.weatherapi.com/v1/current.json?key={api_key}&q=bulk'\n",
    "    url=f'http://api.weatherapi.com/v1/forecast.json?key={api_key}&q=London&days=10&aqi=no&alerts=no'\n",
    "    response=requests.get(url=url)\n",
    "    if response.status_code==200:\n",
    "        return response.json()\n",
    "    else:\n",
    "        print('fel!')"
   ]
  },
  {
   "cell_type": "code",
   "execution_count": 10,
   "metadata": {},
   "outputs": [],
   "source": [
    "data=get_data('9a0a847704c34ec6b84124735242208')"
   ]
  },
  {
   "cell_type": "code",
   "execution_count": 25,
   "metadata": {},
   "outputs": [
    {
     "data": {
      "text/plain": [
       "10"
      ]
     },
     "execution_count": 25,
     "metadata": {},
     "output_type": "execute_result"
    }
   ],
   "source": [
    "len(data['forecast']['forecastday'])"
   ]
  }
 ],
 "metadata": {
  "kernelspec": {
   "display_name": "testv",
   "language": "python",
   "name": "python3"
  },
  "language_info": {
   "codemirror_mode": {
    "name": "ipython",
    "version": 3
   },
   "file_extension": ".py",
   "mimetype": "text/x-python",
   "name": "python",
   "nbconvert_exporter": "python",
   "pygments_lexer": "ipython3",
   "version": "3.12.5"
  }
 },
 "nbformat": 4,
 "nbformat_minor": 2
}
