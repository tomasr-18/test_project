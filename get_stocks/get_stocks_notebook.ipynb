{
 "cells": [
  {
   "cell_type": "code",
   "execution_count": 4,
   "metadata": {},
   "outputs": [],
   "source": [
    "import requests\n",
    "import json\n",
    "import sys\n",
    "import os\n",
    "import time\n",
    "import requests\n",
    "from google.cloud import bigquery\n",
    "from google.oauth2 import service_account\n",
    "from dotenv import load_dotenv"
   ]
  },
  {
   "cell_type": "code",
   "execution_count": 21,
   "metadata": {},
   "outputs": [
    {
     "name": "stderr",
     "output_type": "stream",
     "text": [
      "Python-dotenv could not parse statement starting at line 3\n",
      "Python-dotenv could not parse statement starting at line 4\n",
      "Python-dotenv could not parse statement starting at line 5\n",
      "Python-dotenv could not parse statement starting at line 6\n",
      "Python-dotenv could not parse statement starting at line 7\n",
      "Python-dotenv could not parse statement starting at line 8\n",
      "Python-dotenv could not parse statement starting at line 9\n",
      "Python-dotenv could not parse statement starting at line 10\n",
      "Python-dotenv could not parse statement starting at line 11\n",
      "Python-dotenv could not parse statement starting at line 12\n",
      "Python-dotenv could not parse statement starting at line 13\n"
     ]
    }
   ],
   "source": [
    "load_dotenv()\n",
    "API_KEY = os.getenv('API_KEY')\n",
    "\n",
    "credentials = service_account.Credentials.from_service_account_file(\n",
    "    \"/mnt/c/Users/m_was/Downloads/tomastestproject-433206-48a55703dec2.json\")\n",
    "client = bigquery.Client(credentials=credentials, project=credentials.project_id)\n",
    "table_id = \"tomastestproject-433206.testdb_1.table_6\"  \n",
    "\n",
    "def fetch_and_upload_stock_data(stock_symbol):\n",
    "  \n",
    "        # Construct the API URL\n",
    "        url = f\"https://www.alphavantage.co/query?function=TIME_SERIES_DAILY&symbol={stock_symbol}&apikey={API_KEY}\"\n",
    "        response = requests.get(url=url)\n",
    "        response.raise_for_status()\n",
    "        data = response.json()\n",
    "        if data:  # Check if the data is not empty\n",
    "            time_series = data.get(\"Time Series (Daily)\", {})  # Get the time series data\n",
    "            rows_to_insert = []  # Initialize an empty list to store the data that will be inserted into BigQuery\n",
    "            for date, daily_data in time_series.items():  # .items() returns a list of tuples with the key-value pairs of the dictionary\n",
    "                row = {\n",
    "                    \"date\": date,\n",
    "                    \"open\": float(daily_data[\"1. open\"]),\n",
    "                    \"high\": float(daily_data[\"2. high\"]),\n",
    "                    \"low\": float(daily_data[\"3. low\"]),\n",
    "                    \"close\": float(daily_data[\"4. close\"]),\n",
    "                    \"volume\": int(daily_data[\"5. volume\"]),\n",
    "                    \"stock_symbol\": stock_symbol  # Use stock_symbol instead of undefined stock_name\n",
    "                }\n",
    "                rows_to_insert.append(row)\n",
    "\n",
    "            # Insert rows into BigQuery\n",
    "            errors = client.insert_rows_json(table_id, rows_to_insert)\n",
    "            if errors == []:\n",
    "                print(\"New rows have been added.\")\n",
    "            else:\n",
    "                print(f\"Encountered errors while inserting rows: {errors}\")"
   ]
  },
  {
   "cell_type": "code",
   "execution_count": 25,
   "metadata": {},
   "outputs": [
    {
     "name": "stdout",
     "output_type": "stream",
     "text": [
      "New rows have been added.\n"
     ]
    }
   ],
   "source": [
    "fetch_and_upload_stock_data(\"\")"
   ]
  }
 ],
 "metadata": {
  "kernelspec": {
   "display_name": "Python 3",
   "language": "python",
   "name": "python3"
  },
  "language_info": {
   "codemirror_mode": {
    "name": "ipython",
    "version": 3
   },
   "file_extension": ".py",
   "mimetype": "text/x-python",
   "name": "python",
   "nbconvert_exporter": "python",
   "pygments_lexer": "ipython3",
   "version": "3.10.12"
  }
 },
 "nbformat": 4,
 "nbformat_minor": 2
}
