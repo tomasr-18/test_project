{
 "cells": [
  {
   "cell_type": "code",
   "execution_count": 1,
   "metadata": {},
   "outputs": [],
   "source": [
    "import os\n",
    "import sys\n",
    "import time\n",
    "import json\n",
    "from datetime import datetime\n",
    "\n",
    "import requests\n",
    "from fastapi.responses import JSONResponse\n",
    "from google.cloud import bigquery\n",
    "from google.oauth2 import service_account\n",
    "from dotenv import load_dotenv\n",
    "\n",
    "load_dotenv(dotenv_path='/home/psor/testgit/test_project/get_stocks_raw/.env')\n",
    "\n",
    "STOCK_API_KEY = os.getenv('STOCK_API_KEY')\n",
    "PROJECT_ID = os.environ.get('PROJECT_ID')  \n",
    "# No need to explicitly provide credentials when running on Cloud Run. The BigQuery client will automatically use the service account associated with the Cloud Run service.\n",
    "credentials = service_account.Credentials.from_service_account_file(\n",
    "    \"/mnt/c/Users/m_was/Downloads/tomastestproject-433206-48a55703dec2.json\")\n",
    "client = bigquery.Client(credentials=credentials, project=credentials.project_id)\n",
    "\n",
    "# BigQuery table IDs\n",
    "raw_data_table_id = f\"{PROJECT_ID}.testdb_1.raw_stock_data\"\n",
    "cleaned_data_table_id = f\"{PROJECT_ID}.testdb_1.clean_stock_data\"\n",
    "\n",
    "\n",
    "def clean_stock_data():\n",
    "    \"\"\"\n",
    "    Fetches raw stock data from BigQuery, cleans it, and inserts the cleaned data back into BigQuery.\n",
    "    \"\"\"\n",
    "    try:\n",
    "        # Query to fetch raw data from BigQuery\n",
    "        query = f\"\"\"\n",
    "            SELECT stock_symbol, raw_data\n",
    "            FROM `{raw_data_table_id}`\n",
    "        \"\"\"\n",
    "        query_job = client.query(query)\n",
    "        results = query_job.result()\n",
    "\n",
    "        rows_to_insert = []\n",
    "        for row in results:\n",
    "            stock_symbol = row.stock_symbol\n",
    "            raw_data_str = row.raw_data\n",
    "            \n",
    "            # Parse the JSON-like structure of raw_data_str\n",
    "            time_series = raw_data_str.get(\"Time Series (Daily)\", {})\n",
    "            for date, daily_data in time_series.items():\n",
    "                cleaned_row = {\n",
    "                    \"stock_symbol\": stock_symbol,\n",
    "                    \"date\": date,\n",
    "                    \"open\": float(daily_data[\"1. open\"]),\n",
    "                    \"high\": float(daily_data[\"2. high\"]),\n",
    "                    \"low\": float(daily_data[\"3. low\"]),\n",
    "                    \"close\": float(daily_data[\"4. close\"]),\n",
    "                    \"volume\": int(daily_data[\"5. volume\"]),\n",
    "                }\n",
    "                rows_to_insert.append(cleaned_row)\n",
    "\n",
    "        # Insert cleaned rows into BigQuery\n",
    "        errors = client.insert_rows_json(cleaned_data_table_id, rows_to_insert)\n",
    "        if errors:\n",
    "            print(f\"Encountered errors while inserting rows: {errors}\")\n",
    "        else:\n",
    "            print(\"Cleaned data successfully inserted.\")\n",
    "\n",
    "    except Exception as e:\n",
    "        print(f\"An error occurred: {e}\")\n",
    "\n",
    "# Example usage\n",
    "if __name__ == \"__main__\":\n",
    "    clean_stock_data()\n",
    "\n"
   ]
  },
  {
   "cell_type": "code",
   "execution_count": 65,
   "metadata": {},
   "outputs": [
    {
     "name": "stdout",
     "output_type": "stream",
     "text": [
      "Cleaned data successfully inserted.\n"
     ]
    }
   ],
   "source": []
  }
 ],
 "metadata": {
  "kernelspec": {
   "display_name": "Python 3",
   "language": "python",
   "name": "python3"
  },
  "language_info": {
   "codemirror_mode": {
    "name": "ipython",
    "version": 3
   },
   "file_extension": ".py",
   "mimetype": "text/x-python",
   "name": "python",
   "nbconvert_exporter": "python",
   "pygments_lexer": "ipython3",
   "version": "3.10.12"
  }
 },
 "nbformat": 4,
 "nbformat_minor": 2
}
