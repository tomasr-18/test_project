{
 "cells": [
  {
   "cell_type": "code",
   "execution_count": 2,
   "metadata": {},
   "outputs": [
    {
     "ename": "ModuleNotFoundError",
     "evalue": "No module named 'get_stocks'",
     "output_type": "error",
     "traceback": [
      "\u001b[0;31m---------------------------------------------------------------------------\u001b[0m",
      "\u001b[0;31mModuleNotFoundError\u001b[0m                       Traceback (most recent call last)",
      "Cell \u001b[0;32mIn[2], line 1\u001b[0m\n\u001b[0;32m----> 1\u001b[0m \u001b[38;5;28;01mfrom\u001b[39;00m \u001b[38;5;21;01mget_stocks\u001b[39;00m \u001b[38;5;28;01mimport\u001b[39;00m fetch_and_upload_raw_stock_data\n\u001b[1;32m      2\u001b[0m \u001b[38;5;28;01mfrom\u001b[39;00m \u001b[38;5;21;01mget_stocks\u001b[39;00m \u001b[38;5;28;01mimport\u001b[39;00m clean_stock_data\n\u001b[1;32m      3\u001b[0m \u001b[38;5;28;01mfrom\u001b[39;00m \u001b[38;5;21;01mfastapi\u001b[39;00m \u001b[38;5;28;01mimport\u001b[39;00m FastAPI, HTTPException\n",
      "\u001b[0;31mModuleNotFoundError\u001b[0m: No module named 'get_stocks'"
     ]
    }
   ],
   "source": [
    "from get_stocks import fetch_and_upload_raw_stock_data\n",
    "from get_stocks import clean_stock_data\n",
    "from fastapi import FastAPI, HTTPException\n",
    "from pydantic import BaseModel\n",
    "import os\n",
    "import sys\n",
    "\n",
    "app = FastAPI()\n",
    "\n",
    "class StockRequest(BaseModel):\n",
    "    company: str\n",
    "    api_key: str\n",
    "\n",
    "@app.post(\"/get_stocks/\")\n",
    "def fetch_and_save_stocks(params: StockRequest):\n",
    "    try:\n",
    "        fetch_and_upload_raw_stock_data(\n",
    "            stock_symbol=params.company,\n",
    "            API_KEY=params.api_key\n",
    "        )\n",
    "        clean_stock_data()\n",
    "        return {\"message\": \"Data fetched and saved successfully.\"}\n",
    "    except HTTPException as e:\n",
    "        raise e\n",
    "    except Exception as e:\n",
    "        raise HTTPException(status_code=500, detail=str(e))\n",
    "\n",
    "if __name__ == \"__main__\":\n",
    "    import uvicorn\n",
    "    uvicorn.run(app, host=\"0.0.0.0\", port=8000)"
   ]
  }
 ],
 "metadata": {
  "kernelspec": {
   "display_name": "Python 3",
   "language": "python",
   "name": "python3"
  },
  "language_info": {
   "codemirror_mode": {
    "name": "ipython",
    "version": 3
   },
   "file_extension": ".py",
   "mimetype": "text/x-python",
   "name": "python",
   "nbconvert_exporter": "python",
   "pygments_lexer": "ipython3",
   "version": "3.10.12"
  }
 },
 "nbformat": 4,
 "nbformat_minor": 2
}
