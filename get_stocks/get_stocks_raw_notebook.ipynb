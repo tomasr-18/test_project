{
 "cells": [
  {
   "cell_type": "code",
   "execution_count": 6,
   "metadata": {},
   "outputs": [],
   "source": [
    "import os\n",
    "import sys\n",
    "import time\n",
    "import json\n",
    "from datetime import datetime\n",
    "\n",
    "import requests\n",
    "from fastapi.responses import JSONResponse\n",
    "from google.cloud import bigquery\n",
    "from google.oauth2 import service_account\n",
    "from dotenv import load_dotenv\n",
    "\n",
    "\n",
    "load_dotenv(dotenv_path='/home/psor/testgit/test_project/get_stocks/.env')\n",
    "\n",
    "STOCK_API_KEY = os.getenv('STOCK_API_KEY')\n",
    "PROJECT_ID = os.environ.get('PROJECT_ID')  \n",
    "# No need to explicitly provide credentials when running on Cloud Run. The BigQuery client will automatically use the service account associated with the Cloud Run service.\n",
    "credentials = service_account.Credentials.from_service_account_file(\n",
    "    \"/mnt/c/Users/m_was/Downloads/tomastestproject-433206-48a55703dec2.json\")\n",
    "client = bigquery.Client(credentials=credentials, project=credentials.project_id)\n",
    "\n",
    "table_id = f\"{PROJECT_ID}.testdb_1.raw_stock_data\"\n",
    "\n",
    "def fetch_and_upload_raw_stock_data(stock_symbol: str, API_KEY: str):\n",
    "    try:\n",
    "        # Construct the API URL\n",
    "        url = f\"https://www.alphavantage.co/query?function=TIME_SERIES_DAILY&symbol={stock_symbol}&apikey={STOCK_API_KEY}\"\n",
    "        response = requests.get(url=url)   \n",
    "        response.raise_for_status()\n",
    "        data = response.json()\n",
    "        fetch_date = datetime.now().strftime('%Y-%m-%d %H:%M:%S')\n",
    "        \n",
    "        # Prepare data for insertion\n",
    "        rows_to_insert = [\n",
    "            {\n",
    "                \"stock_symbol\": stock_symbol,\n",
    "                \"raw_data\": json.dumps(data),\n",
    "                \"fetch_date\": fetch_date  \n",
    "            }\n",
    "        ]\n",
    "        return data\n",
    "        errors = client.insert_rows_json(table_id, rows_to_insert)\n",
    "\n",
    "        if errors:\n",
    "            print(f\"Encountered errors while inserting rows: {errors}\")\n",
    "        else:\n",
    "            print(\"Rows successfully inserted.\")\n",
    "        \n",
    "    except Exception as e:\n",
    "        print(f\"An error occurred: {e}\")\n",
    "\n",
    "\n",
    "#if __name__ == \"__main__\":\n"
   ]
  },
  {
   "cell_type": "code",
   "execution_count": 16,
   "metadata": {},
   "outputs": [
    {
     "name": "stdout",
     "output_type": "stream",
     "text": [
      "Latest day's raw data successfully inserted into BigQuery.\n"
     ]
    }
   ],
   "source": [
    "import os\n",
    "import json\n",
    "import requests\n",
    "from datetime import datetime\n",
    "from google.cloud import bigquery\n",
    "from google.oauth2 import service_account\n",
    "from dotenv import load_dotenv\n",
    "\n",
    "load_dotenv()\n",
    "\n",
    "# Load environment variables\n",
    "PROJECT_ID = os.getenv('PROJECT_ID')\n",
    "credentials = service_account.Credentials.from_service_account_file(\n",
    "    \"/mnt/c/Users/m_was/Downloads/tomastestproject-433206-48a55703dec2.json\")\n",
    "client = bigquery.Client(credentials=credentials, project=PROJECT_ID)\n",
    "\n",
    "# BigQuery table ID\n",
    "raw_data_table_id = f\"{PROJECT_ID}.testdb_1.raw_stock_data\"\n",
    "\n",
    "def fetch_and_upload_raw_stock_data(stock_symbol: str, API_KEY: str):\n",
    "    try:\n",
    "        # Construct the API URL\n",
    "        url = f\"https://www.alphavantage.co/query?function=TIME_SERIES_DAILY&symbol={stock_symbol}&apikey={API_KEY}\"\n",
    "        response = requests.get(url=url)\n",
    "        response.raise_for_status()\n",
    "        data = response.json()\n",
    "\n",
    "        # Extract the \"Time Series (Daily)\" part\n",
    "        time_series_daily = data['Time Series (Daily)']\n",
    "\n",
    "          # Extract only the first dictionary from \"Time Series (Daily)\"\n",
    "        latest_date = sorted(time_series_daily.keys())[-1]\n",
    "        latest_data = {latest_date: time_series_daily[latest_date]}\n",
    "\n",
    "        # Prepare the row to insert\n",
    "        row_to_insert = {\n",
    "            \"stock_symbol\": stock_symbol,\n",
    "            \"raw_data\": json.dumps(latest_data),\n",
    "            \"fetch_date\": datetime.now().strftime('%Y-%m-%d %H:%M:%S')\n",
    "        }\n",
    "\n",
    "        \n",
    "\n",
    "\n",
    "        # Insert the row into BigQuery\n",
    "        errors = client.insert_rows_json(raw_data_table_id, [row_to_insert])\n",
    "        if errors:\n",
    "            print(f\"Encountered errors while inserting rows: {errors}\")\n",
    "        else:\n",
    "            print(\"Latest day's raw data successfully inserted into BigQuery.\")\n",
    "\n",
    "    except Exception as e:\n",
    "        print(f\"An error occurred: {e}\")\n",
    "\n",
    "# Example usage\n",
    "if __name__ == \"__main__\":\n",
    "    STOCK_API_KEY = \"your_api_key_here\"\n",
    "    fetch_and_upload_raw_stock_data(\"TSLA\", STOCK_API_KEY)"
   ]
  },
  {
   "cell_type": "code",
   "execution_count": 12,
   "metadata": {},
   "outputs": [
    {
     "name": "stdout",
     "output_type": "stream",
     "text": [
      "An error occurred: 0\n"
     ]
    }
   ],
   "source": [
    "fetch_and_upload_raw_stock_data(\"TSLA\", STOCK_API_KEY)"
   ]
  }
 ],
 "metadata": {
  "kernelspec": {
   "display_name": "Python 3",
   "language": "python",
   "name": "python3"
  },
  "language_info": {
   "codemirror_mode": {
    "name": "ipython",
    "version": 3
   },
   "file_extension": ".py",
   "mimetype": "text/x-python",
   "name": "python",
   "nbconvert_exporter": "python",
   "pygments_lexer": "ipython3",
   "version": "3.10.12"
  }
 },
 "nbformat": 4,
 "nbformat_minor": 2
}
