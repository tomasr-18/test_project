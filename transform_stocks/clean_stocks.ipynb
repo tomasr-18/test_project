{
 "cells": [
  {
   "cell_type": "code",
   "execution_count": 1,
   "metadata": {},
   "outputs": [],
   "source": [
    "import os\n",
    "import json\n",
    "from fastapi import FastAPI, HTTPException\n",
    "from google.cloud import bigquery\n",
    "from google.cloud import secretmanager\n",
    "import uvicorn\n",
    "import logging\n",
    "from google.auth import default\n",
    "\n",
    "app = FastAPI()\n",
    "\n",
    "def get_project_id():\n",
    "    \"\"\"Retrieve project ID from environment.\"\"\"\n",
    "    #GOOGLE_CLOUD_PROJECT: This specific environment variable is used to store the Google Cloud project ID. \n",
    "    #It allows the application to know which Google Cloud project it should interact with.\n",
    "    project_id = os.getenv('GOOGLE_CLOUD_PROJECT')\n",
    "\n",
    "    if project_id is None:\n",
    "        # If not set, use google.auth.default to fetch the project ID\n",
    "        credentials, project_id = default()\n",
    "    \n",
    "    return project_id\n",
    "\n",
    "\n",
    "def get_secret(secret_name='bigquery-accout-secret') -> str:\n",
    "    \"\"\"Fetches a secret from Google Cloud Secret Manager.\n",
    "\n",
    "    Args:\n",
    "        secret_name (str): The name of the secret in Secret Manager.\n",
    "\n",
    "    Returns:\n",
    "        str: The secret data as a string.\n",
    "    \"\"\"\n",
    "    # Instansiera en klient för Secret Manager\n",
    "    client = secretmanager.SecretManagerServiceClient()\n",
    "\n",
    "    # Bygg sökvägen till den hemlighet du vill hämta\n",
    "    project_id = get_project_id()  # Ersätt med ditt projekt-ID\n",
    "    secret_path = f\"projects/{project_id}/secrets/{secret_name}/versions/latest\"\n",
    "\n",
    "    # Hämta den senaste versionen av hemligheten\n",
    "    response = client.access_secret_version(name=secret_path)\n",
    "\n",
    "    # Dekoda hemligheten till en sträng\n",
    "    secret_data = response.payload.data.decode('UTF-8')\n",
    "\n",
    "    return secret_data\n",
    "\n"
   ]
  },
  {
   "cell_type": "code",
   "execution_count": 5,
   "metadata": {},
   "outputs": [],
   "source": [
    "def fetch_raw_data(client, raw_data_table_id: str):\n",
    "    \"\"\"\n",
    "    Fetch raw stock data from BigQuery.\n",
    "    \"\"\"\n",
    "    query = f\"\"\"\n",
    "        SELECT stock_symbol, raw_data\n",
    "        FROM `{raw_data_table_id}`\n",
    "    \"\"\"\n",
    "    query_job = client.query(query)\n",
    "    results = query_job.result()\n",
    "    return results, print(results)\n"
   ]
  },
  {
   "cell_type": "code",
   "execution_count": 6,
   "metadata": {},
   "outputs": [
    {
     "ename": "TypeError",
     "evalue": "fetch_raw_data() missing 2 required positional arguments: 'client' and 'raw_data_table_id'",
     "output_type": "error",
     "traceback": [
      "\u001b[0;31m---------------------------------------------------------------------------\u001b[0m",
      "\u001b[0;31mTypeError\u001b[0m                                 Traceback (most recent call last)",
      "Cell \u001b[0;32mIn[6], line 1\u001b[0m\n\u001b[0;32m----> 1\u001b[0m \u001b[43mfetch_raw_data\u001b[49m\u001b[43m(\u001b[49m\u001b[43m)\u001b[49m\n",
      "\u001b[0;31mTypeError\u001b[0m: fetch_raw_data() missing 2 required positional arguments: 'client' and 'raw_data_table_id'"
     ]
    }
   ],
   "source": [
    "fetch_raw_data()"
   ]
  }
 ],
 "metadata": {
  "kernelspec": {
   "display_name": "project_env",
   "language": "python",
   "name": "python3"
  },
  "language_info": {
   "codemirror_mode": {
    "name": "ipython",
    "version": 3
   },
   "file_extension": ".py",
   "mimetype": "text/x-python",
   "name": "python",
   "nbconvert_exporter": "python",
   "pygments_lexer": "ipython3",
   "version": "3.10.12"
  }
 },
 "nbformat": 4,
 "nbformat_minor": 2
}
